{
 "cells": [
  {
   "cell_type": "code",
   "execution_count": 11,
   "metadata": {},
   "outputs": [],
   "source": [
    "from datetime import datetime\n",
    "import pandas as pd\n",
    "import os\n",
    "import numpy as np"
   ]
  },
  {
   "cell_type": "code",
   "execution_count": 12,
   "metadata": {},
   "outputs": [],
   "source": [
    "WS617 = pd.read_csv('produkt_klima_tag_20040601_20181231_00617.txt', sep = ';', engine = 'python')\n",
    "WS1590 = pd.read_csv('produkt_klima_tag_19631001_20181231_01590.txt', sep = ';', engine = 'python')\n",
    "WS2629 = pd.read_csv('produkt_klima_tag_19471111_20181231_02629.txt', sep = ';', engine = 'python')\n",
    "WS5064 = pd.read_csv('produkt_klima_tag_20041201_20181231_05064.txt', sep = ';', engine = 'python')\n",
    "WS13670 = pd.read_csv('produkt_klima_tag_20070531_20181231_13670.txt', sep = ';', engine = 'python')\n",
    "\n",
    "WS617 = WS617[['MESS_DATUM',\" RSK\", \" TMK\"]]\n",
    "WS1590 = WS1590[['MESS_DATUM',\" RSK\", \" TMK\"]]\n",
    "WS2629 = WS2629[['MESS_DATUM',\" RSK\", \" TMK\"]]\n",
    "WS5064 = WS5064[['MESS_DATUM',\" RSK\", \" TMK\"]]\n",
    "WS13670 = WS13670[['MESS_DATUM',\" RSK\", \" TMK\"]]\n",
    "\n",
    "WS617['MESS_DATUM'] = pd.to_datetime(WS617['MESS_DATUM'], format = '%Y%m%d')\n",
    "WS1590['MESS_DATUM'] = pd.to_datetime(WS1590['MESS_DATUM'], format = '%Y%m%d')\n",
    "WS2629['MESS_DATUM'] = pd.to_datetime(WS2629['MESS_DATUM'], format = '%Y%m%d')\n",
    "WS5064['MESS_DATUM'] = pd.to_datetime(WS5064['MESS_DATUM'], format = '%Y%m%d')\n",
    "WS13670['MESS_DATUM'] = pd.to_datetime(WS13670['MESS_DATUM'], format = '%Y%m%d')\n",
    "\n",
    "WS617 = WS617[(WS617[\" TMK\"] != -999) & (WS617[\" RSK\"] != -999)]\n",
    "WS1590 = WS1590[(WS1590[\" TMK\"] != -999) & (WS1590[\" RSK\"] != -999)]\n",
    "WS2629 = WS2629[(WS2629[\" TMK\"] != -999) & (WS2629[\" RSK\"] != -999)]\n",
    "WS5064 = WS5064[(WS5064[\" TMK\"] != -999) & (WS5064[\" RSK\"] != -999)]\n",
    "WS13670 = WS13670[(WS13670[\" TMK\"] != -999) & (WS13670[\" RSK\"] != -999)]"
   ]
  },
  {
   "cell_type": "code",
   "execution_count": 13,
   "metadata": {},
   "outputs": [],
   "source": [
    "# Dataset for 2015-2016\n",
    "start_timestamp_1516 = pd.Timestamp(\"20160101\")\n",
    "end_timestamp_1516 = pd.Timestamp(\"20161201\")\n",
    "\n",
    "WS617_1516 = WS617[(WS617['MESS_DATUM'] > start_timestamp_1516) & (WS617['MESS_DATUM'] < end_timestamp_1516)]\n",
    "WS1590_1516 = WS1590[(WS1590['MESS_DATUM'] > start_timestamp_1516) & (WS1590['MESS_DATUM'] < end_timestamp_1516)]\n",
    "WS2629_1516 = WS2629[(WS2629['MESS_DATUM'] > start_timestamp_1516) & (WS2629['MESS_DATUM'] < end_timestamp_1516)]\n",
    "WS5064_1516 = WS5064[(WS5064['MESS_DATUM'] > start_timestamp_1516) & (WS5064['MESS_DATUM'] < end_timestamp_1516)]\n",
    "WS13670_1516 = WS13670[(WS13670['MESS_DATUM'] > start_timestamp_1516) & (WS13670['MESS_DATUM'] < end_timestamp_1516)]"
   ]
  },
  {
   "cell_type": "code",
   "execution_count": 14,
   "metadata": {},
   "outputs": [],
   "source": [
    "# Dataset for 2016-2017\n",
    "start_timestamp_1617 = pd.Timestamp(\"20170101\")\n",
    "end_timestamp_1617 = pd.Timestamp(\"20171201\")\n",
    "\n",
    "WS617_1617 = WS617[(WS617['MESS_DATUM'] > start_timestamp_1617) & (WS617['MESS_DATUM'] < end_timestamp_1617)]\n",
    "WS617_1617 = WS1590[(WS1590['MESS_DATUM'] > start_timestamp_1617) & (WS1590['MESS_DATUM'] < end_timestamp_1617)]\n",
    "WS2629_1617 = WS2629[(WS2629['MESS_DATUM'] > start_timestamp_1617) & (WS2629['MESS_DATUM'] < end_timestamp_1617)]\n",
    "WS5064_1617 = WS5064[(WS5064['MESS_DATUM'] > start_timestamp_1617) & (WS5064['MESS_DATUM'] < end_timestamp_1617)]\n",
    "WS13670_1617 = WS13670[(WS13670['MESS_DATUM'] > start_timestamp_1617) & (WS13670['MESS_DATUM'] < end_timestamp_1617)]"
   ]
  },
  {
   "cell_type": "code",
   "execution_count": 1,
   "metadata": {},
   "outputs": [
    {
     "ename": "NameError",
     "evalue": "name 'pd' is not defined",
     "output_type": "error",
     "traceback": [
      "\u001b[1;31m---------------------------------------------------------------------------\u001b[0m",
      "\u001b[1;31mNameError\u001b[0m                                 Traceback (most recent call last)",
      "\u001b[1;32m<ipython-input-1-aa3087e75448>\u001b[0m in \u001b[0;36m<module>\u001b[1;34m\u001b[0m\n\u001b[0;32m      1\u001b[0m \u001b[1;31m# Dataset for 2017-2018\u001b[0m\u001b[1;33m\u001b[0m\u001b[1;33m\u001b[0m\u001b[1;33m\u001b[0m\u001b[0m\n\u001b[1;32m----> 2\u001b[1;33m \u001b[0mstart_timestamp_1718\u001b[0m \u001b[1;33m=\u001b[0m \u001b[0mpd\u001b[0m\u001b[1;33m.\u001b[0m\u001b[0mTimestamp\u001b[0m\u001b[1;33m(\u001b[0m\u001b[1;34m\"20180101\"\u001b[0m\u001b[1;33m)\u001b[0m\u001b[1;33m\u001b[0m\u001b[1;33m\u001b[0m\u001b[0m\n\u001b[0m\u001b[0;32m      3\u001b[0m \u001b[0mend_timestamp_1718\u001b[0m \u001b[1;33m=\u001b[0m \u001b[0mpd\u001b[0m\u001b[1;33m.\u001b[0m\u001b[0mTimestamp\u001b[0m\u001b[1;33m(\u001b[0m\u001b[1;34m\"20181201\"\u001b[0m\u001b[1;33m)\u001b[0m\u001b[1;33m\u001b[0m\u001b[1;33m\u001b[0m\u001b[0m\n\u001b[0;32m      4\u001b[0m \u001b[1;33m\u001b[0m\u001b[0m\n\u001b[0;32m      5\u001b[0m \u001b[0mWS617_1718\u001b[0m \u001b[1;33m=\u001b[0m \u001b[0mWS617\u001b[0m\u001b[1;33m[\u001b[0m\u001b[1;33m(\u001b[0m\u001b[0mWS617\u001b[0m\u001b[1;33m[\u001b[0m\u001b[1;34m'MESS_DATUM'\u001b[0m\u001b[1;33m]\u001b[0m \u001b[1;33m>\u001b[0m \u001b[0mstart_timestamp_1718\u001b[0m\u001b[1;33m)\u001b[0m \u001b[1;33m&\u001b[0m \u001b[1;33m(\u001b[0m\u001b[0mWS617\u001b[0m\u001b[1;33m[\u001b[0m\u001b[1;34m'MESS_DATUM'\u001b[0m\u001b[1;33m]\u001b[0m \u001b[1;33m<\u001b[0m \u001b[0mend_timestamp_1718\u001b[0m\u001b[1;33m)\u001b[0m\u001b[1;33m]\u001b[0m\u001b[1;33m\u001b[0m\u001b[1;33m\u001b[0m\u001b[0m\n",
      "\u001b[1;31mNameError\u001b[0m: name 'pd' is not defined"
     ]
    }
   ],
   "source": [
    "# Dataset for 2017-2018\n",
    "start_timestamp_1718 = pd.Timestamp(\"20180101\")\n",
    "end_timestamp_1718 = pd.Timestamp(\"20181201\")\n",
    "\n",
    "WS617_1718 = WS617[(WS617['MESS_DATUM'] > start_timestamp_1718) & (WS617['MESS_DATUM'] < end_timestamp_1718)]\n",
    "WS1590_1718 = WS1590[(WS1590['MESS_DATUM'] > start_timestamp_1718) & (WS1590['MESS_DATUM'] < end_timestamp_1718)]\n",
    "WS2629_1718 = WS2629[(WS2629['MESS_DATUM'] > start_timestamp_1718) & (WS2629['MESS_DATUM'] < end_timestamp_1718)]\n",
    "WS5064_1718 = WS5064[(WS5064['MESS_DATUM'] > start_timestamp_1718) & (WS5064['MESS_DATUM'] < end_timestamp_1718)]\n",
    "WS13670_1718 = WS13670[(WS13670['MESS_DATUM'] > start_timestamp_1718) & (WS13670['MESS_DATUM'] < end_timestamp_1718)]"
   ]
  },
  {
   "cell_type": "code",
   "execution_count": 169,
   "metadata": {},
   "outputs": [],
   "source": [
    "# Mean temperatures for 2015-2016\n",
    "Mean_Temp_WS617_1516 = WS617_1516[\" TMK\"].mean()\n",
    "Mean_Temp_WS1590_1516 = WS1590_1516[\" TMK\"].mean()\n",
    "Mean_Temp_WS2629_1516 = WS2629_1516[\" TMK\"].mean()\n",
    "Mean_Temp_WS5064_1516 = WS5064_1516[\" TMK\"].mean()\n",
    "Mean_Temp_WS13670_1516 = WS13670_1516[\" TMK\"].mean()"
   ]
  },
  {
   "cell_type": "code",
   "execution_count": 170,
   "metadata": {},
   "outputs": [],
   "source": [
    "# Mean temperatures for 2016-2017\n",
    "Mean_Temp_WS617_1617 = WS617_1617[\" TMK\"].mean()\n",
    "Mean_Temp_WS1590_1617 = WS617_1617[\" TMK\"].mean()\n",
    "Mean_Temp_WS2629_1617 = WS2629_1617[\" TMK\"].mean()\n",
    "Mean_Temp_WS5064_1617 = WS5064_1617[\" TMK\"].mean()\n",
    "Mean_Temp_WS13670_1617 = WS13670_1617[\" TMK\"].mean()"
   ]
  },
  {
   "cell_type": "code",
   "execution_count": 171,
   "metadata": {},
   "outputs": [],
   "source": [
    "# Mean temperatures for 2017-2018\n",
    "Mean_Temp_WS617_1718 = WS617_1718[\" TMK\"].mean()\n",
    "Mean_Temp_WS1590_1718 = WS617_1718[\" TMK\"].mean()\n",
    "Mean_Temp_WS2629_1718 = WS2629_1718[\" TMK\"].mean()\n",
    "Mean_Temp_WS5064_1718 = WS5064_1718[\" TMK\"].mean()\n",
    "Mean_Temp_WS13670_1718 = WS13670_1718[\" TMK\"].mean()"
   ]
  },
  {
   "cell_type": "code",
   "execution_count": 172,
   "metadata": {},
   "outputs": [],
   "source": [
    "# Mean Precepitation for 2015-2016\n",
    "Mean_Precep_WS617_1516 = WS617_1516[\" RSK\"].mean()\n",
    "Mean_Precep_WS1590_1516 = WS1590_1516[\" RSK\"].mean()\n",
    "Mean_Precep_WS2629_1516 = WS2629_1516[\" RSK\"].mean()\n",
    "Mean_Precep_WS5064_1516 = WS5064_1516[\" RSK\"].mean()\n",
    "Mean_Precep_WS13670_1516 = WS13670_1516[\" RSK\"].mean()"
   ]
  },
  {
   "cell_type": "code",
   "execution_count": 173,
   "metadata": {},
   "outputs": [],
   "source": [
    "# Mean temperatures for 2016-2017\n",
    "Mean_Precep_WS617_1617 = WS617_1617[\" RSK\"].mean()\n",
    "Mean_Precep_WS1590_1617 = WS617_1617[\" RSK\"].mean()\n",
    "Mean_Precep_WS2629_1617 = WS2629_1617[\" RSK\"].mean()\n",
    "Mean_Precep_WS5064_1617 = WS5064_1617[\" RSK\"].mean()\n",
    "Mean_Precep_WS13670_1617 = WS13670_1617[\" RSK\"].mean()"
   ]
  },
  {
   "cell_type": "code",
   "execution_count": 174,
   "metadata": {},
   "outputs": [],
   "source": [
    "# Mean temperatures for 2017-2018\n",
    "Mean_Precep_WS617_1718 = WS617_1718[\" RSK\"].mean()\n",
    "Mean_Precep_WS1590_1718 = WS617_1718[\" RSK\"].mean()\n",
    "Mean_Precep_WS2629_1718 = WS2629_1718[\" RSK\"].mean()\n",
    "Mean_Precep_WS5064_1718 = WS5064_1718[\" RSK\"].mean()\n",
    "Mean_Precep_WS13670_1718 = WS13670_1718[\" RSK\"].mean()"
   ]
  },
  {
   "cell_type": "code",
   "execution_count": 175,
   "metadata": {},
   "outputs": [],
   "source": [
    "weights = [1.0, 0.9943, 0.9417, 0.6067, 0.5603]"
   ]
  },
  {
   "cell_type": "code",
   "execution_count": 176,
   "metadata": {},
   "outputs": [],
   "source": [
    "Interpolated_temp_1516 = (weights[0] * Mean_Temp_WS617_1516 + weights[1] * Mean_Temp_WS1590_1516 + weights[2] * Mean_Temp_WS2629_1516 + weights[3] * Mean_Temp_WS5064_1516 + weights[4] * Mean_Temp_WS13670_1516) / sum(weights)\n",
    "Interpolated_temp_1617 = (weights[0] * Mean_Temp_WS617_1617 + weights[1] * Mean_Temp_WS1590_1617 + weights[2] * Mean_Temp_WS2629_1617 + weights[3] * Mean_Temp_WS5064_1617 + weights[4] * Mean_Temp_WS13670_1617) / sum(weights)\n",
    "Interpolated_temp_1718 = (weights[0] * Mean_Temp_WS617_1718 + weights[1] * Mean_Temp_WS1590_1718 + weights[2] * Mean_Temp_WS2629_1718 + weights[3] * Mean_Temp_WS5064_1718 + weights[4] * Mean_Temp_WS13670_1718) / sum(weights)"
   ]
  },
  {
   "cell_type": "code",
   "execution_count": 177,
   "metadata": {},
   "outputs": [],
   "source": [
    "Interpolated_Precep_1516 = (weights[0] * Mean_Precep_WS617_1516 + weights[1] * Mean_Precep_WS1590_1516 + weights[2] * Mean_Precep_WS2629_1516 + weights[3] * Mean_Precep_WS5064_1516 + weights[4] * Mean_Precep_WS13670_1516) / sum(weights)\n",
    "Interpolated_Precep_1617 = (weights[0] * Mean_Precep_WS617_1617 + weights[1] * Mean_Precep_WS1590_1617 + weights[2] * Mean_Precep_WS2629_1617 + weights[3] * Mean_Precep_WS5064_1617 + weights[4] * Mean_Precep_WS13670_1617) / sum(weights)\n",
    "Interpolated_Precep_1718 = (weights[0] * Mean_Precep_WS617_1718 + weights[1] * Mean_Precep_WS1590_1718 + weights[2] * Mean_Precep_WS2629_1718 + weights[3] * Mean_Precep_WS5064_1718 + weights[4] * Mean_Precep_WS13670_1718) / sum(weights)"
   ]
  },
  {
   "cell_type": "code",
   "execution_count": 7,
   "metadata": {},
   "outputs": [
    {
     "ename": "NameError",
     "evalue": "name 'Interpolated_temp_1516' is not defined",
     "output_type": "error",
     "traceback": [
      "\u001b[1;31m---------------------------------------------------------------------------\u001b[0m",
      "\u001b[1;31mNameError\u001b[0m                                 Traceback (most recent call last)",
      "\u001b[1;32m<ipython-input-7-ea3aab72cfa9>\u001b[0m in \u001b[0;36m<module>\u001b[1;34m\u001b[0m\n\u001b[1;32m----> 1\u001b[1;33m \u001b[0mprint\u001b[0m\u001b[1;33m(\u001b[0m\u001b[0mInterpolated_temp_1516\u001b[0m\u001b[1;33m)\u001b[0m\u001b[1;33m\u001b[0m\u001b[1;33m\u001b[0m\u001b[0m\n\u001b[0m\u001b[0;32m      2\u001b[0m \u001b[0mprint\u001b[0m\u001b[1;33m(\u001b[0m\u001b[0mInterpolated_temp_1617\u001b[0m\u001b[1;33m)\u001b[0m\u001b[1;33m\u001b[0m\u001b[1;33m\u001b[0m\u001b[0m\n\u001b[0;32m      3\u001b[0m \u001b[0mprint\u001b[0m\u001b[1;33m(\u001b[0m\u001b[0mInterpolated_temp_1718\u001b[0m\u001b[1;33m)\u001b[0m\u001b[1;33m\u001b[0m\u001b[1;33m\u001b[0m\u001b[0m\n",
      "\u001b[1;31mNameError\u001b[0m: name 'Interpolated_temp_1516' is not defined"
     ]
    }
   ],
   "source": [
    "print(Interpolated_temp_1516)\n",
    "print(Interpolated_temp_1617)\n",
    "print(Interpolated_temp_1718)"
   ]
  },
  {
   "cell_type": "code",
   "execution_count": 179,
   "metadata": {},
   "outputs": [
    {
     "name": "stdout",
     "output_type": "stream",
     "text": [
      "2.217896919978138\n",
      "1.9839413850188252\n",
      "2.233369209264282\n"
     ]
    }
   ],
   "source": [
    "print(Interpolated_Precep_1516)\n",
    "print(Interpolated_Precep_1617)\n",
    "print(Interpolated_Precep_1718)"
   ]
  },
  {
   "cell_type": "code",
   "execution_count": null,
   "metadata": {},
   "outputs": [],
   "source": []
  }
 ],
 "metadata": {
  "kernelspec": {
   "display_name": "Python 3",
   "language": "python",
   "name": "python3"
  },
  "language_info": {
   "codemirror_mode": {
    "name": "ipython",
    "version": 3
   },
   "file_extension": ".py",
   "mimetype": "text/x-python",
   "name": "python",
   "nbconvert_exporter": "python",
   "pygments_lexer": "ipython3",
   "version": "3.7.4"
  }
 },
 "nbformat": 4,
 "nbformat_minor": 4
}
